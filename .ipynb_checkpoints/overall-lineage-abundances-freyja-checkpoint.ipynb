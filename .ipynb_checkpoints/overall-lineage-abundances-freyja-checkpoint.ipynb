{
 "cells": [
  {
   "cell_type": "markdown",
   "metadata": {},
   "source": [
    "# Master Thesis: Development and evaluation of Galaxy pipelines for detection of SARS-CoV-2 variants by genomic analysis of wastewater samples\n",
    "\n",
    "**Purpose of this jupyter notebook:** \n",
    "- compute the overall lineage abundances proportions of considered lineages in mock dataset for Freyja output"
   ]
  },
  {
   "cell_type": "code",
   "execution_count": 1,
   "metadata": {},
   "outputs": [],
   "source": [
    "#Libraries\n",
    "import pandas as pd\n",
    "import numpy as np\n",
    "import plotly.express as px\n",
    "import matplotlib.pyplot as plt\n",
    "import matplotlib.patches as mpatches\n",
    "import seaborn as sns\n",
    "from matplotlib.patches import Circle, RegularPolygon\n",
    "from matplotlib.path import Path\n",
    "from matplotlib.projections.polar import PolarAxes\n",
    "from matplotlib.projections import register_projection\n",
    "from matplotlib.spines import Spine\n",
    "from matplotlib.transforms import Affine2D\n",
    "from matplotlib.colors import LogNorm, Normalize\n",
    "from pandas.plotting import parallel_coordinates\n",
    "from sklearn.decomposition import PCA\n",
    "from sklearn import datasets\n",
    "from sklearn.preprocessing import StandardScaler"
   ]
  },
  {
   "cell_type": "code",
   "execution_count": 2,
   "metadata": {},
   "outputs": [
    {
     "name": "stderr",
     "output_type": "stream",
     "text": [
      "C:\\Users\\polpo\\AppData\\Local\\Temp\\ipykernel_12372\\3243273944.py:33: SettingWithCopyWarning: \n",
      "A value is trying to be set on a copy of a slice from a DataFrame\n",
      "\n",
      "See the caveats in the documentation: https://pandas.pydata.org/pandas-docs/stable/user_guide/indexing.html#returning-a-view-versus-a-copy\n",
      "  df_fr['fr_ba1'][ind] = ab_ba1\n",
      "C:\\Users\\polpo\\AppData\\Local\\Temp\\ipykernel_12372\\3243273944.py:28: SettingWithCopyWarning: \n",
      "A value is trying to be set on a copy of a slice from a DataFrame\n",
      "\n",
      "See the caveats in the documentation: https://pandas.pydata.org/pandas-docs/stable/user_guide/indexing.html#returning-a-view-versus-a-copy\n",
      "  df_fr['fr_delta'][ind] = ab_d\n",
      "C:\\Users\\polpo\\AppData\\Local\\Temp\\ipykernel_12372\\3243273944.py:43: SettingWithCopyWarning: \n",
      "A value is trying to be set on a copy of a slice from a DataFrame\n",
      "\n",
      "See the caveats in the documentation: https://pandas.pydata.org/pandas-docs/stable/user_guide/indexing.html#returning-a-view-versus-a-copy\n",
      "  df_fr['fr_other'][ind] = ab_o\n",
      "C:\\Users\\polpo\\AppData\\Local\\Temp\\ipykernel_12372\\3243273944.py:38: SettingWithCopyWarning: \n",
      "A value is trying to be set on a copy of a slice from a DataFrame\n",
      "\n",
      "See the caveats in the documentation: https://pandas.pydata.org/pandas-docs/stable/user_guide/indexing.html#returning-a-view-versus-a-copy\n",
      "  df_fr['fr_ba2'][ind] = ab_ba2\n"
     ]
    }
   ],
   "source": [
    "#Create a dataframe of lineage abundances for freyja\n",
    "df_fr = (pd.read_csv(\"data/galaxy-data/freyja_aggregated_data.tsv\", sep='\\t')\n",
    "             # remove columns\n",
    "             .drop((['summarized','resid', 'coverage']), axis=1))\n",
    "            \n",
    "df_fr.insert(3,'fr_delta', 0.0)\n",
    "df_fr.insert(4,'fr_ba1', 0.0)\n",
    "df_fr.insert(5,'fr_ba2', 0.0)\n",
    "df_fr.insert(6,'fr_other', 0.0)\n",
    "\n",
    "#compute the overall lineage abundances proportions for delta, BA1, BA2, and other for Freyja output\n",
    "delta = ['B.1.617.2', 'AY']\n",
    "fr_dic = {}\n",
    "\n",
    "for ind in df_fr.index:\n",
    "    ab_d = 0.0\n",
    "    ab_ba1 = 0.0\n",
    "    ab_ba2 = 0.0\n",
    "    ab_o = 0.0\n",
    "    l = df_fr['lineages'][ind]\n",
    "    a = df_fr['abundances'][ind]\n",
    "    dic = dict(zip(l.split(), [float(i) for i in a.split()]))\n",
    "    for i, j in dic.items():\n",
    "        if any(x in i for x in delta):\n",
    "            ab_d += j\n",
    "            x = {'delta': ab_d}\n",
    "            fr_dic.update(x)\n",
    "            df_fr['fr_delta'][ind] = ab_d\n",
    "        elif 'BA.1' in i:\n",
    "            ab_ba1 += j\n",
    "            x = {'ba1': ab_ba1}\n",
    "            fr_dic.update(x)\n",
    "            df_fr['fr_ba1'][ind] = ab_ba1\n",
    "        elif 'BA.2' in i:\n",
    "            ab_ba2 += j\n",
    "            x = {'ba2': ab_ba2}\n",
    "            fr_dic.update(x)\n",
    "            df_fr['fr_ba2'][ind] = ab_ba2\n",
    "        else:\n",
    "            ab_o += j\n",
    "            x = {'other': ab_o}\n",
    "            fr_dic.update(x)\n",
    "            df_fr['fr_other'][ind] = ab_o\n",
    "        \n",
    "df_fr = df_fr.drop((['lineages','abundances']), axis=1)"
   ]
  },
  {
   "cell_type": "code",
   "execution_count": null,
   "metadata": {},
   "outputs": [],
   "source": []
  }
 ],
 "metadata": {
  "kernelspec": {
   "display_name": "Python 3 (ipykernel)",
   "language": "python",
   "name": "python3"
  },
  "language_info": {
   "codemirror_mode": {
    "name": "ipython",
    "version": 3
   },
   "file_extension": ".py",
   "mimetype": "text/x-python",
   "name": "python",
   "nbconvert_exporter": "python",
   "pygments_lexer": "ipython3",
   "version": "3.9.12"
  }
 },
 "nbformat": 4,
 "nbformat_minor": 4
}
